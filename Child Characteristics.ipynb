{
 "cells": [
  {
   "cell_type": "code",
   "execution_count": 1,
   "id": "9bf18fab",
   "metadata": {},
   "outputs": [],
   "source": [
    "import random"
   ]
  },
  {
   "cell_type": "code",
   "execution_count": 2,
   "id": "c303a0c5",
   "metadata": {},
   "outputs": [],
   "source": [
    "def child_characteristics(parent1, parent2):\n",
    "    # Height inheritance\n",
    "    child_height = (parent1['height'] + parent2['height']) / 2\n",
    "\n",
    "    # Weight inheritance\n",
    "    child_weight = (parent1['weight'] + parent2['weight']) / 2\n",
    "\n",
    "    # Gender inheritance\n",
    "    child_gender = random.choice(['Male', 'Female'])\n",
    "\n",
    "    # Race inheritance\n",
    "    child_race = random.choice(['Caucasian', 'African American', 'Asian', 'Hispanic', 'Other'])\n",
    "\n",
    "    # Complexion inheritance\n",
    "    child_complexion = random.choice(['Fair', 'Medium', 'Dark'])\n",
    "\n",
    "    # Eye color inheritance\n",
    "    eye_colors = ['Brown', 'Blue', 'Green', 'Hazel']\n",
    "    child_eye_color = random.choice([parent1['eye_color'], parent2['eye_color']] + eye_colors)\n",
    "\n",
    "    # Hair color inheritance\n",
    "    hair_colors = ['Black', 'Brown', 'Blonde', 'Red']\n",
    "    child_hair_color = random.choice([parent1['hair_color'], parent2['hair_color']] + hair_colors)\n",
    "\n",
    "    return {\n",
    "        'Estimated Child Characteristics': {\n",
    "            'Height': child_height,\n",
    "            'Weight': child_weight,\n",
    "            'Gender': child_gender,\n",
    "            'Race': child_race,\n",
    "            'Complexion': child_complexion,\n",
    "            'Eye Color': child_eye_color,\n",
    "            'Hair Color': child_hair_color\n",
    "        }\n",
    "    }"
   ]
  },
  {
   "cell_type": "code",
   "execution_count": 3,
   "id": "f0d66091",
   "metadata": {},
   "outputs": [],
   "source": [
    "# Define parents' characteristics\n",
    "parent1 = {\n",
    "    'height': 175,  # in cm\n",
    "    'weight': 70,  # in kg\n",
    "    'eye_color': 'Brown',\n",
    "    'hair_color': 'Black'\n",
    "}\n",
    "\n",
    "parent2 = {\n",
    "    'height': 165,  # in cm\n",
    "    'weight': 60,  # in kg\n",
    "    'eye_color': 'Blue',\n",
    "    'hair_color': 'Blonde'\n",
    "}"
   ]
  },
  {
   "cell_type": "code",
   "execution_count": 4,
   "id": "67e793ad",
   "metadata": {},
   "outputs": [
    {
     "data": {
      "text/plain": [
       "{'Estimated Child Characteristics': {'Height': 170.0,\n",
       "  'Weight': 65.0,\n",
       "  'Gender': 'Male',\n",
       "  'Race': 'Asian',\n",
       "  'Complexion': 'Medium',\n",
       "  'Eye Color': 'Blue',\n",
       "  'Hair Color': 'Black'}}"
      ]
     },
     "execution_count": 4,
     "metadata": {},
     "output_type": "execute_result"
    }
   ],
   "source": [
    "child_characteristics(parent1, parent2)"
   ]
  },
  {
   "cell_type": "code",
   "execution_count": null,
   "id": "594ffdc3",
   "metadata": {},
   "outputs": [],
   "source": []
  }
 ],
 "metadata": {
  "kernelspec": {
   "display_name": "Python 3 (ipykernel)",
   "language": "python",
   "name": "python3"
  },
  "language_info": {
   "codemirror_mode": {
    "name": "ipython",
    "version": 3
   },
   "file_extension": ".py",
   "mimetype": "text/x-python",
   "name": "python",
   "nbconvert_exporter": "python",
   "pygments_lexer": "ipython3",
   "version": "3.11.5"
  }
 },
 "nbformat": 4,
 "nbformat_minor": 5
}
